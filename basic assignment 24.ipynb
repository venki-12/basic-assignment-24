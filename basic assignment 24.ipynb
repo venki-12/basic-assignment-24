{
 "cells": [
  {
   "cell_type": "code",
   "execution_count": 4,
   "metadata": {},
   "outputs": [
    {
     "name": "stdout",
     "output_type": "stream",
     "text": [
      "25\n",
      "25\n"
     ]
    }
   ],
   "source": [
    "#What is the relationship between def statements and lambda expressions ?\n",
    "\n",
    "# we needed to define a function with a name  and needed to pass a value to it. \n",
    "# After execution, we also needed to return the result from where the function was called using the return keyword.\n",
    "def sq(y): \n",
    "    return y*y\n",
    "\n",
    "print(sq(5))\n",
    "\n",
    "\n",
    "#Lambda definition does not include a “return” statement, \n",
    "#It always contains an expression which is returned. \n",
    "\n",
    "g = lambda x: x*x\n",
    "print(g(5)) "
   ]
  },
  {
   "cell_type": "code",
   "execution_count": 5,
   "metadata": {},
   "outputs": [],
   "source": [
    "#What is the benefit of lambda?\n",
    "#We use a lambda function to saving time for naming and get better readability.\n"
   ]
  },
  {
   "cell_type": "code",
   "execution_count": 1,
   "metadata": {},
   "outputs": [
    {
     "name": "stdout",
     "output_type": "stream",
     "text": [
      "[53, 68, 72]\n",
      "[16, 32, 48, 64, 80, 96, 112, 128, 144, 160]\n"
     ]
    }
   ],
   "source": [
    "#Compare and contrast map, filter, and reduce.\n",
    "#The filter() function, combined with a lambda function, allows you to easily filter through a list\n",
    "#your lambda function would return a boolean value that signifies if an item is to be kept. The filter() function then returns a list of those items which returned true.\n",
    "data = [3, 4, 6, 7, 11, 14, 19, 25, 45, 49, 53, 68, 72]\n",
    " \n",
    "filtered_data = list(filter(lambda val: (val > 50), data))\n",
    " \n",
    "print(filtered_data)\n",
    "\n",
    "#map() function allows you to apply expressions or operators to every item in a sequence, such as a list.\n",
    "\n",
    "numbers = [2, 4, 6, 8, 10, 12, 14, 16, 18, 20]\n",
    " \n",
    "modified_list = list(map(lambda val: val * 8, numbers))\n",
    " \n",
    "print(modified_list)\n",
    "\n",
    "# reduce()  used to apply a particular function passed in its argument to all of the list elements mentioned in the sequence passed along.\n",
    "#This function is defined in “functools” module."
   ]
  },
  {
   "cell_type": "code",
   "execution_count": 3,
   "metadata": {},
   "outputs": [],
   "source": [
    "#what are function annotations and how they are used?\n",
    "#Function annotations are arbitrary python expressions that are associated with various part of functions.\n",
    "#These expressions are evaluated at compile time and have no life in python’s runtime environment\n",
    "\n",
    "#The benefits from function annotations can only be reaped via third party libraries. The type of benefits depends upon the type of the library\n",
    "\n",
    "#Annotations for simple parameters\n",
    "#Annotations for excess parameters \n",
    "#Annotations for nested parameters \n",
    "#Annotations for return type"
   ]
  },
  {
   "cell_type": "code",
   "execution_count": 1,
   "metadata": {},
   "outputs": [],
   "source": [
    "#What are recursive functions, and how are they used?\n",
    "#Recursive Function in Python is used for repetitively calling the same function until the loop reaches the desired value during the program execution by using the divide and conquer logic\n",
    "#Recursive functions make the code look clean and elegant.\n",
    "#A complex task can be broken down into simpler sub-problems using recursion.\n",
    "#Sequence generation is easier with recursion than using some nested iteration."
   ]
  },
  {
   "cell_type": "code",
   "execution_count": null,
   "metadata": {},
   "outputs": [],
   "source": [
    "#What are some general design guidelines for coding functions?\n",
    "#limited use of globals\n",
    "#standard headers for different modules\n",
    "#naming conventions for local variable,global variable, constants and functions\n",
    "#proper indention\n",
    "#Avoid using a coding style that is too difficult to understand\n",
    "#Length of functions should not be very large"
   ]
  }
 ],
 "metadata": {
  "kernelspec": {
   "display_name": "Python 3",
   "language": "python",
   "name": "python3"
  },
  "language_info": {
   "codemirror_mode": {
    "name": "ipython",
    "version": 3
   },
   "file_extension": ".py",
   "mimetype": "text/x-python",
   "name": "python",
   "nbconvert_exporter": "python",
   "pygments_lexer": "ipython3",
   "version": "3.8.5"
  }
 },
 "nbformat": 4,
 "nbformat_minor": 4
}
